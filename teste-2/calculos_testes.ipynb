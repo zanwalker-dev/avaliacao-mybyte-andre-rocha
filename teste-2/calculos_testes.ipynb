{
 "cells": [
  {
   "attachments": {},
   "cell_type": "markdown",
   "metadata": {},
   "source": [
    "#Teste função Juros Simples"
   ]
  },
  {
   "cell_type": "code",
   "execution_count": 28,
   "metadata": {},
   "outputs": [],
   "source": [
    "def juros_simples(C, i, t):\n",
    "    J = C * i * t\n",
    "    M = C + J\n",
    "    return J, M"
   ]
  },
  {
   "cell_type": "code",
   "execution_count": 29,
   "metadata": {},
   "outputs": [
    {
     "name": "stdout",
     "output_type": "stream",
     "text": [
      "Juros: R$600.00, Montante: R$1600.00\n"
     ]
    }
   ],
   "source": [
    "C = 1000\n",
    "i = 0.05\n",
    "t = 12\n",
    "J, M = juros_simples(C, i, t)\n",
    "print(f\"Juros: R${J:.2f}, Montante: R${M:.2f}\")"
   ]
  },
  {
   "attachments": {},
   "cell_type": "markdown",
   "metadata": {},
   "source": [
    "#Teste função Juros Compostp"
   ]
  },
  {
   "cell_type": "code",
   "execution_count": 33,
   "metadata": {},
   "outputs": [],
   "source": [
    "def juros_compostos(C, i, t):\n",
    "    M = C * (1 + i) ** t\n",
    "    J = M - C\n",
    "    return M, J"
   ]
  },
  {
   "cell_type": "code",
   "execution_count": 34,
   "metadata": {},
   "outputs": [
    {
     "name": "stdout",
     "output_type": "stream",
     "text": [
      "Juros: R$795.86, Montante: R$1795.86\n"
     ]
    }
   ],
   "source": [
    "C = 1000\n",
    "i = 0.05\n",
    "t = 12\n",
    "M, J = juros_compostos(C, i, t)\n",
    "print(f\"Juros: R${J:.2f}, Montante: R${M:.2f}\")"
   ]
  },
  {
   "attachments": {},
   "cell_type": "markdown",
   "metadata": {},
   "source": [
    "#Teste função Valor presente de uma parcela futura"
   ]
  },
  {
   "cell_type": "code",
   "execution_count": 35,
   "metadata": {},
   "outputs": [],
   "source": [
    "def valor_presente(VF, i, t):\n",
    "    VP = VF / (1 + i) ** t\n",
    "    \n",
    "    return VP"
   ]
  },
  {
   "cell_type": "code",
   "execution_count": 36,
   "metadata": {},
   "outputs": [
    {
     "name": "stdout",
     "output_type": "stream",
     "text": [
      "Valor presente: R$ 556.84\n"
     ]
    }
   ],
   "source": [
    "VF = 1000\n",
    "i = 0.05\n",
    "t = 12\n",
    "\n",
    "VP = valor_presente(VF, i, t)\n",
    "print(f\"Valor presente: R$ {VP:.2f}\")"
   ]
  }
 ],
 "metadata": {
  "kernelspec": {
   "display_name": "Python 3",
   "language": "python",
   "name": "python3"
  },
  "language_info": {
   "codemirror_mode": {
    "name": "ipython",
    "version": 3
   },
   "file_extension": ".py",
   "mimetype": "text/x-python",
   "name": "python",
   "nbconvert_exporter": "python",
   "pygments_lexer": "ipython3",
   "version": "3.9.6"
  },
  "orig_nbformat": 4
 },
 "nbformat": 4,
 "nbformat_minor": 2
}

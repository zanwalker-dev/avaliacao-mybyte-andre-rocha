{
 "cells": [
  {
   "cell_type": "code",
   "execution_count": 28,
   "metadata": {},
   "outputs": [],
   "source": [
    "def juros_simples(C, i, t):\n",
    "    J = C * i * t\n",
    "    M = C + J\n",
    "    return J, M"
   ]
  },
  {
   "cell_type": "code",
   "execution_count": 29,
   "metadata": {},
   "outputs": [
    {
     "name": "stdout",
     "output_type": "stream",
     "text": [
      "Juros: R$600.00, Montante: R$1600.00\n"
     ]
    }
   ],
   "source": [
    "C = 1000\n",
    "i = 0.05\n",
    "t = 12\n",
    "J, M = juros_simples(C, i, t)\n",
    "print(f\"Juros: R${J:.2f}, Montante: R${M:.2f}\")"
   ]
  }
 ],
 "metadata": {
  "kernelspec": {
   "display_name": "Python 3",
   "language": "python",
   "name": "python3"
  },
  "language_info": {
   "codemirror_mode": {
    "name": "ipython",
    "version": 3
   },
   "file_extension": ".py",
   "mimetype": "text/x-python",
   "name": "python",
   "nbconvert_exporter": "python",
   "pygments_lexer": "ipython3",
   "version": "3.9.6"
  },
  "orig_nbformat": 4
 },
 "nbformat": 4,
 "nbformat_minor": 2
}
